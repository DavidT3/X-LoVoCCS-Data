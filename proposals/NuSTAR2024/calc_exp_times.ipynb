{
 "cells": [
  {
   "cell_type": "code",
   "execution_count": 1,
   "id": "ceb88d08",
   "metadata": {},
   "outputs": [],
   "source": [
    "import pandas as pd\n",
    "from astropy.units import Quantity, Unit\n",
    "from astropy.cosmology import Planck15, FlatLambdaCDM\n",
    "from astropy.coordinates import SkyCoord\n",
    "from astropy.io import fits\n",
    "from matplotlib import pyplot as plt\n",
    "from matplotlib.patches import Circle\n",
    "from matplotlib.lines import Line2D\n",
    "import numpy as np\n",
    "from tqdm import tqdm\n",
    "import os\n",
    "from random import randint\n",
    "from subprocess import Popen, PIPE\n",
    "import pickle\n",
    "\n",
    "import xga\n",
    "xga.NUM_CORES = 40\n",
    "from xga.samples import ClusterSample\n",
    "from xga.imagetools.misc import physical_rad_to_pix\n",
    "from xga.sourcetools.misc import rad_to_ang, nh_lookup\n",
    "from xga import CENSUS, COUNTRATE_CONV_SCRIPT\n",
    "from xga.relations.clusters.LT import xcs_sdss_r500_52\n",
    "from xga.products.relation import ScalingRelation\n",
    "from xga.sourcetools.match import simple_xmm_match\n",
    "\n",
    "%matplotlib inline"
   ]
  },
  {
   "cell_type": "code",
   "execution_count": 2,
   "id": "d77cbcfc",
   "metadata": {},
   "outputs": [
    {
     "data": {
      "text/plain": [
       "FlatLambdaCDM(H0=70.0 km / (Mpc s), Om0=0.3, Tcmb0=0.0 K, Neff=3.04, m_nu=None, Ob0=None)"
      ]
     },
     "execution_count": 2,
     "metadata": {},
     "output_type": "execute_result"
    }
   ],
   "source": [
    "cosmo = FlatLambdaCDM(70, 0.3)\n",
    "cosmo"
   ]
  },
  {
   "cell_type": "code",
   "execution_count": 9,
   "id": "2903cdfb",
   "metadata": {},
   "outputs": [
    {
     "data": {
      "text/html": [
       "<div>\n",
       "<style scoped>\n",
       "    .dataframe tbody tr th:only-of-type {\n",
       "        vertical-align: middle;\n",
       "    }\n",
       "\n",
       "    .dataframe tbody tr th {\n",
       "        vertical-align: top;\n",
       "    }\n",
       "\n",
       "    .dataframe thead th {\n",
       "        text-align: right;\n",
       "    }\n",
       "</style>\n",
       "<table border=\"1\" class=\"dataframe\">\n",
       "  <thead>\n",
       "    <tr style=\"text-align: right;\">\n",
       "      <th></th>\n",
       "      <th>name</th>\n",
       "      <th>MCXC</th>\n",
       "      <th>LoVoCCSID</th>\n",
       "      <th>LoVoCCS_name</th>\n",
       "      <th>ra</th>\n",
       "      <th>dec</th>\n",
       "      <th>redshift</th>\n",
       "      <th>L500</th>\n",
       "      <th>M500</th>\n",
       "      <th>R500</th>\n",
       "      <th>...</th>\n",
       "      <th>old_LoVoCCSID</th>\n",
       "      <th>ID</th>\n",
       "      <th>Name</th>\n",
       "      <th>RA</th>\n",
       "      <th>DEC</th>\n",
       "      <th>Redshift</th>\n",
       "      <th>Newly processed</th>\n",
       "      <th>Fully observed</th>\n",
       "      <th>Comments</th>\n",
       "      <th>NUSTAR_R500_FRAC</th>\n",
       "    </tr>\n",
       "  </thead>\n",
       "  <tbody>\n",
       "    <tr>\n",
       "      <th>0</th>\n",
       "      <td>MCXCJ2201.9-5956</td>\n",
       "      <td>J2201.9-5956</td>\n",
       "      <td>7</td>\n",
       "      <td>LoVoCCS-7</td>\n",
       "      <td>330.483333</td>\n",
       "      <td>-59.949444</td>\n",
       "      <td>0.0980</td>\n",
       "      <td>4.204419</td>\n",
       "      <td>4.5890</td>\n",
       "      <td>1.1367</td>\n",
       "      <td>...</td>\n",
       "      <td>6.0</td>\n",
       "      <td>5</td>\n",
       "      <td>A3827</td>\n",
       "      <td>330.48</td>\n",
       "      <td>-59.95</td>\n",
       "      <td>0.0980</td>\n",
       "      <td>1.0</td>\n",
       "      <td>yes</td>\n",
       "      <td>Currently using A3825 catalogs. Note the 2 clu...</td>\n",
       "      <td>0.0</td>\n",
       "    </tr>\n",
       "    <tr>\n",
       "      <th>1</th>\n",
       "      <td>MCXCJ0257.8+1302</td>\n",
       "      <td>J0257.8+1302</td>\n",
       "      <td>14</td>\n",
       "      <td>LoVoCCS-14</td>\n",
       "      <td>44.457500</td>\n",
       "      <td>13.049167</td>\n",
       "      <td>0.0722</td>\n",
       "      <td>3.592916</td>\n",
       "      <td>4.2452</td>\n",
       "      <td>1.1169</td>\n",
       "      <td>...</td>\n",
       "      <td>13.0</td>\n",
       "      <td>11</td>\n",
       "      <td>A399</td>\n",
       "      <td>44.46</td>\n",
       "      <td>13.05</td>\n",
       "      <td>0.0722</td>\n",
       "      <td>1.0</td>\n",
       "      <td>yes</td>\n",
       "      <td>NaN</td>\n",
       "      <td>0.0</td>\n",
       "    </tr>\n",
       "    <tr>\n",
       "      <th>2</th>\n",
       "      <td>MCXCJ2325.3-1207</td>\n",
       "      <td>J2325.3-1207</td>\n",
       "      <td>15</td>\n",
       "      <td>LoVoCCS-15</td>\n",
       "      <td>351.333333</td>\n",
       "      <td>-12.127222</td>\n",
       "      <td>0.0852</td>\n",
       "      <td>3.557935</td>\n",
       "      <td>4.1821</td>\n",
       "      <td>1.1066</td>\n",
       "      <td>...</td>\n",
       "      <td>14.0</td>\n",
       "      <td>12</td>\n",
       "      <td>A2597</td>\n",
       "      <td>351.33</td>\n",
       "      <td>-12.13</td>\n",
       "      <td>0.0852</td>\n",
       "      <td>1.0</td>\n",
       "      <td>yes</td>\n",
       "      <td>NaN</td>\n",
       "      <td>0.0</td>\n",
       "    </tr>\n",
       "    <tr>\n",
       "      <th>3</th>\n",
       "      <td>MCXCJ0052.7-8015</td>\n",
       "      <td>J0052.7-8015</td>\n",
       "      <td>19</td>\n",
       "      <td>LoVoCCS-19</td>\n",
       "      <td>13.187083</td>\n",
       "      <td>-80.266389</td>\n",
       "      <td>0.1141</td>\n",
       "      <td>3.393306</td>\n",
       "      <td>3.9812</td>\n",
       "      <td>1.0783</td>\n",
       "      <td>...</td>\n",
       "      <td>18.0</td>\n",
       "      <td>14</td>\n",
       "      <td>A2837</td>\n",
       "      <td>13.19</td>\n",
       "      <td>-80.27</td>\n",
       "      <td>0.1141</td>\n",
       "      <td>1.0</td>\n",
       "      <td>yes</td>\n",
       "      <td>NaN</td>\n",
       "      <td>0.0</td>\n",
       "    </tr>\n",
       "    <tr>\n",
       "      <th>4</th>\n",
       "      <td>MCXCJ2034.7-3548</td>\n",
       "      <td>J2034.7-3548</td>\n",
       "      <td>22</td>\n",
       "      <td>LoVoCCS-22</td>\n",
       "      <td>308.699583</td>\n",
       "      <td>-35.813333</td>\n",
       "      <td>0.0894</td>\n",
       "      <td>2.963013</td>\n",
       "      <td>3.7297</td>\n",
       "      <td>1.0637</td>\n",
       "      <td>...</td>\n",
       "      <td>21.0</td>\n",
       "      <td>17</td>\n",
       "      <td>A3695</td>\n",
       "      <td>308.70</td>\n",
       "      <td>-35.81</td>\n",
       "      <td>0.0894</td>\n",
       "      <td>1.0</td>\n",
       "      <td>yes</td>\n",
       "      <td>NaN</td>\n",
       "      <td>0.0</td>\n",
       "    </tr>\n",
       "    <tr>\n",
       "      <th>...</th>\n",
       "      <td>...</td>\n",
       "      <td>...</td>\n",
       "      <td>...</td>\n",
       "      <td>...</td>\n",
       "      <td>...</td>\n",
       "      <td>...</td>\n",
       "      <td>...</td>\n",
       "      <td>...</td>\n",
       "      <td>...</td>\n",
       "      <td>...</td>\n",
       "      <td>...</td>\n",
       "      <td>...</td>\n",
       "      <td>...</td>\n",
       "      <td>...</td>\n",
       "      <td>...</td>\n",
       "      <td>...</td>\n",
       "      <td>...</td>\n",
       "      <td>...</td>\n",
       "      <td>...</td>\n",
       "      <td>...</td>\n",
       "      <td>...</td>\n",
       "    </tr>\n",
       "    <tr>\n",
       "      <th>82</th>\n",
       "      <td>MCXCJ1332.9-2519</td>\n",
       "      <td>J1332.9-2519</td>\n",
       "      <td>116</td>\n",
       "      <td>LoVoCCS-116</td>\n",
       "      <td>203.232500</td>\n",
       "      <td>-25.323889</td>\n",
       "      <td>0.1199</td>\n",
       "      <td>1.139833</td>\n",
       "      <td>2.0385</td>\n",
       "      <td>0.8610</td>\n",
       "      <td>...</td>\n",
       "      <td>113.0</td>\n",
       "      <td>86</td>\n",
       "      <td>RXCJ1332.9-2519</td>\n",
       "      <td>203.23</td>\n",
       "      <td>-25.32</td>\n",
       "      <td>0.1199</td>\n",
       "      <td>1.0</td>\n",
       "      <td>yes</td>\n",
       "      <td>Not very clear lensing peak</td>\n",
       "      <td>0.0</td>\n",
       "    </tr>\n",
       "    <tr>\n",
       "      <th>83</th>\n",
       "      <td>MCXCJ0821.0+0751</td>\n",
       "      <td>J0821.0+0751</td>\n",
       "      <td>119</td>\n",
       "      <td>LoVoCCS-119</td>\n",
       "      <td>125.257500</td>\n",
       "      <td>7.866111</td>\n",
       "      <td>0.1100</td>\n",
       "      <td>1.110969</td>\n",
       "      <td>2.0211</td>\n",
       "      <td>0.8614</td>\n",
       "      <td>...</td>\n",
       "      <td>116.0</td>\n",
       "      <td>88</td>\n",
       "      <td>RXCJ0821.0+0751</td>\n",
       "      <td>125.26</td>\n",
       "      <td>7.87</td>\n",
       "      <td>0.1100</td>\n",
       "      <td>1.0</td>\n",
       "      <td>yes</td>\n",
       "      <td>NaN</td>\n",
       "      <td>0.0</td>\n",
       "    </tr>\n",
       "    <tr>\n",
       "      <th>84</th>\n",
       "      <td>MCXCJ2125.2-0657</td>\n",
       "      <td>J2125.2-0657</td>\n",
       "      <td>140</td>\n",
       "      <td>LoVoCCS-140</td>\n",
       "      <td>321.301667</td>\n",
       "      <td>-6.965556</td>\n",
       "      <td>0.1153</td>\n",
       "      <td>1.018847</td>\n",
       "      <td>1.9100</td>\n",
       "      <td>0.8438</td>\n",
       "      <td>...</td>\n",
       "      <td>137.0</td>\n",
       "      <td>103</td>\n",
       "      <td>RXCJ2125.2-0657</td>\n",
       "      <td>321.30</td>\n",
       "      <td>-6.97</td>\n",
       "      <td>0.1153</td>\n",
       "      <td>NaN</td>\n",
       "      <td>partially</td>\n",
       "      <td>NaN</td>\n",
       "      <td>0.0</td>\n",
       "    </tr>\n",
       "    <tr>\n",
       "      <th>85</th>\n",
       "      <td>MCXCJ1416.8-1158</td>\n",
       "      <td>J1416.8-1158</td>\n",
       "      <td>144</td>\n",
       "      <td>LoVoCCS-144</td>\n",
       "      <td>214.214583</td>\n",
       "      <td>-11.976111</td>\n",
       "      <td>0.0982</td>\n",
       "      <td>1.001648</td>\n",
       "      <td>1.9133</td>\n",
       "      <td>0.8491</td>\n",
       "      <td>...</td>\n",
       "      <td>141.0</td>\n",
       "      <td>106</td>\n",
       "      <td>RXCJ1416.8-1158</td>\n",
       "      <td>214.21</td>\n",
       "      <td>-11.98</td>\n",
       "      <td>0.0982</td>\n",
       "      <td>NaN</td>\n",
       "      <td>no</td>\n",
       "      <td>NaN</td>\n",
       "      <td>0.0</td>\n",
       "    </tr>\n",
       "    <tr>\n",
       "      <th>86</th>\n",
       "      <td>MCXCJ1459.0-0843</td>\n",
       "      <td>J1459.0-0843</td>\n",
       "      <td>145</td>\n",
       "      <td>LoVoCCS-145</td>\n",
       "      <td>224.764583</td>\n",
       "      <td>-8.725000</td>\n",
       "      <td>0.1043</td>\n",
       "      <td>1.001337</td>\n",
       "      <td>1.9047</td>\n",
       "      <td>0.8461</td>\n",
       "      <td>...</td>\n",
       "      <td>142.0</td>\n",
       "      <td>107</td>\n",
       "      <td>RXCJ1459.0-0843</td>\n",
       "      <td>224.76</td>\n",
       "      <td>-8.73</td>\n",
       "      <td>0.1043</td>\n",
       "      <td>NaN</td>\n",
       "      <td>partially</td>\n",
       "      <td>NaN</td>\n",
       "      <td>0.0</td>\n",
       "    </tr>\n",
       "  </tbody>\n",
       "</table>\n",
       "<p>87 rows × 24 columns</p>\n",
       "</div>"
      ],
      "text/plain": [
       "                name          MCXC  LoVoCCSID LoVoCCS_name          ra  \\\n",
       "0   MCXCJ2201.9-5956  J2201.9-5956          7    LoVoCCS-7  330.483333   \n",
       "1   MCXCJ0257.8+1302  J0257.8+1302         14   LoVoCCS-14   44.457500   \n",
       "2   MCXCJ2325.3-1207  J2325.3-1207         15   LoVoCCS-15  351.333333   \n",
       "3   MCXCJ0052.7-8015  J0052.7-8015         19   LoVoCCS-19   13.187083   \n",
       "4   MCXCJ2034.7-3548  J2034.7-3548         22   LoVoCCS-22  308.699583   \n",
       "..               ...           ...        ...          ...         ...   \n",
       "82  MCXCJ1332.9-2519  J1332.9-2519        116  LoVoCCS-116  203.232500   \n",
       "83  MCXCJ0821.0+0751  J0821.0+0751        119  LoVoCCS-119  125.257500   \n",
       "84  MCXCJ2125.2-0657  J2125.2-0657        140  LoVoCCS-140  321.301667   \n",
       "85  MCXCJ1416.8-1158  J1416.8-1158        144  LoVoCCS-144  214.214583   \n",
       "86  MCXCJ1459.0-0843  J1459.0-0843        145  LoVoCCS-145  224.764583   \n",
       "\n",
       "          dec  redshift      L500    M500    R500  ... old_LoVoCCSID   ID  \\\n",
       "0  -59.949444    0.0980  4.204419  4.5890  1.1367  ...           6.0    5   \n",
       "1   13.049167    0.0722  3.592916  4.2452  1.1169  ...          13.0   11   \n",
       "2  -12.127222    0.0852  3.557935  4.1821  1.1066  ...          14.0   12   \n",
       "3  -80.266389    0.1141  3.393306  3.9812  1.0783  ...          18.0   14   \n",
       "4  -35.813333    0.0894  2.963013  3.7297  1.0637  ...          21.0   17   \n",
       "..        ...       ...       ...     ...     ...  ...           ...  ...   \n",
       "82 -25.323889    0.1199  1.139833  2.0385  0.8610  ...         113.0   86   \n",
       "83   7.866111    0.1100  1.110969  2.0211  0.8614  ...         116.0   88   \n",
       "84  -6.965556    0.1153  1.018847  1.9100  0.8438  ...         137.0  103   \n",
       "85 -11.976111    0.0982  1.001648  1.9133  0.8491  ...         141.0  106   \n",
       "86  -8.725000    0.1043  1.001337  1.9047  0.8461  ...         142.0  107   \n",
       "\n",
       "               Name      RA    DEC  Redshift Newly processed  Fully observed  \\\n",
       "0             A3827  330.48 -59.95    0.0980             1.0             yes   \n",
       "1              A399   44.46  13.05    0.0722             1.0             yes   \n",
       "2             A2597  351.33 -12.13    0.0852             1.0             yes   \n",
       "3             A2837   13.19 -80.27    0.1141             1.0             yes   \n",
       "4             A3695  308.70 -35.81    0.0894             1.0             yes   \n",
       "..              ...     ...    ...       ...             ...             ...   \n",
       "82  RXCJ1332.9-2519  203.23 -25.32    0.1199             1.0             yes   \n",
       "83  RXCJ0821.0+0751  125.26   7.87    0.1100             1.0             yes   \n",
       "84  RXCJ2125.2-0657  321.30  -6.97    0.1153             NaN       partially   \n",
       "85  RXCJ1416.8-1158  214.21 -11.98    0.0982             NaN              no   \n",
       "86  RXCJ1459.0-0843  224.76  -8.73    0.1043             NaN       partially   \n",
       "\n",
       "                                             Comments  NUSTAR_R500_FRAC  \n",
       "0   Currently using A3825 catalogs. Note the 2 clu...               0.0  \n",
       "1                                                 NaN               0.0  \n",
       "2                                                 NaN               0.0  \n",
       "3                                                 NaN               0.0  \n",
       "4                                                 NaN               0.0  \n",
       "..                                                ...               ...  \n",
       "82                        Not very clear lensing peak               0.0  \n",
       "83                                                NaN               0.0  \n",
       "84                                                NaN               0.0  \n",
       "85                                                NaN               0.0  \n",
       "86                                                NaN               0.0  \n",
       "\n",
       "[87 rows x 24 columns]"
      ]
     },
     "execution_count": 9,
     "metadata": {},
     "output_type": "execute_result"
    }
   ],
   "source": [
    "chos_samp = pd.read_csv(\"poss_nustar_targets.csv\")\n",
    "chos_samp"
   ]
  },
  {
   "cell_type": "code",
   "execution_count": 30,
   "id": "60ae80ab",
   "metadata": {},
   "outputs": [
    {
     "name": "stderr",
     "output_type": "stream",
     "text": [
      "Fetching nH: 100%|██████████| 87/87 [00:03<00:00, 27.37it/s]\n"
     ]
    }
   ],
   "source": [
    "with tqdm(desc='Fetching nH', total=len(chos_samp)) as onwards:\n",
    "    nhs = []\n",
    "    for row_ind, row in chos_samp.iterrows():\n",
    "        nh = nh_lookup(Quantity([row['ra'], row['dec']], 'deg'))[0]\n",
    "        nhs.append(nh)\n",
    "        onwards.update(1)\n",
    "nhs = Quantity(nhs)"
   ]
  },
  {
   "cell_type": "code",
   "execution_count": 31,
   "id": "4c715602",
   "metadata": {},
   "outputs": [
    {
     "data": {
      "text/latex": [
       "$[0.0277,~0.099,~0.0225,~0.0551,~0.0292,~0.0219,~0.0422,~0.0155,~0.0408,~0.0399,~0.00973,~0.0137,~0.0291,~0.0267,~0.0231,~0.0306,~0.0163,~0.0253,~0.0516,~0.025,~0.0214,~0.0146,~0.0512,~0.0508,~0.0298,~0.0402,~0.0283,~0.0108,~0.0151,~0.0366,~0.0441,~0.0144,~0.0261,~0.0181,~0.0281,~0.0138,~0.011,~0.0148,~0.0482,~0.0328,~0.0175,~0.0269,~0.0141,~0.0345,~0.0268,~0.0283,~0.0624,~0.0259,~0.0464,~0.0195,~0.0108,~0.019,~0.0171,~0.0195,~0.0256,~0.0526,~0.0128,~0.0477,~0.0605,~0.0367,~0.0114,~0.0387,~0.0836,~0.0467,~0.0292,~0.0192,~0.0138,~0.0201,~0.0365,~0.0296,~0.105,~0.0167,~0.0768,~0.0333,~0.0672,~0.00914,~0.0586,~0.0173,~0.0288,~0.0284,~0.053,~0.0539,~0.0519,~0.0187,~0.0666,~0.0526,~0.0647] \\; \\mathrm{1 \\times 10^{22}\\,\\frac{1}{cm^{2}}}$"
      ],
      "text/plain": [
       "<Quantity [0.0277 , 0.099  , 0.0225 , 0.0551 , 0.0292 , 0.0219 , 0.0422 ,\n",
       "           0.0155 , 0.0408 , 0.0399 , 0.00973, 0.0137 , 0.0291 , 0.0267 ,\n",
       "           0.0231 , 0.0306 , 0.0163 , 0.0253 , 0.0516 , 0.025  , 0.0214 ,\n",
       "           0.0146 , 0.0512 , 0.0508 , 0.0298 , 0.0402 , 0.0283 , 0.0108 ,\n",
       "           0.0151 , 0.0366 , 0.0441 , 0.0144 , 0.0261 , 0.0181 , 0.0281 ,\n",
       "           0.0138 , 0.011  , 0.0148 , 0.0482 , 0.0328 , 0.0175 , 0.0269 ,\n",
       "           0.0141 , 0.0345 , 0.0268 , 0.0283 , 0.0624 , 0.0259 , 0.0464 ,\n",
       "           0.0195 , 0.0108 , 0.019  , 0.0171 , 0.0195 , 0.0256 , 0.0526 ,\n",
       "           0.0128 , 0.0477 , 0.0605 , 0.0367 , 0.0114 , 0.0387 , 0.0836 ,\n",
       "           0.0467 , 0.0292 , 0.0192 , 0.0138 , 0.0201 , 0.0365 , 0.0296 ,\n",
       "           0.105  , 0.0167 , 0.0768 , 0.0333 , 0.0672 , 0.00914, 0.0586 ,\n",
       "           0.0173 , 0.0288 , 0.0284 , 0.053  , 0.0539 , 0.0519 , 0.0187 ,\n",
       "           0.0666 , 0.0526 , 0.0647 ] 1e+22 / cm2>"
      ]
     },
     "execution_count": 31,
     "metadata": {},
     "output_type": "execute_result"
    }
   ],
   "source": [
    "nhs"
   ]
  },
  {
   "cell_type": "code",
   "execution_count": 5,
   "id": "68d2c5ed",
   "metadata": {},
   "outputs": [
    {
     "name": "stderr",
     "output_type": "stream",
     "text": [
      "/mnt/home/turne540/software/anaconda3/envs/test_daxa_dev/lib/python3.8/site-packages/xga/products/relation.py:827: UserWarning: The 'show_third_dim' argument should only be set to True if 'third_dim_info' was set on the creation of this scaling relation. Setting 'show_third_im' to False.\n",
      "  warn(\"The 'show_third_dim' argument should only be set to True if 'third_dim_info' was set on the creation \"\n"
     ]
    },
    {
     "data": {
      "image/png": "[encoded data removed]",
      "text/plain": [
       "<Figure size 700x600 with 1 Axes>"
      ]
     },
     "metadata": {},
     "output_type": "display_data"
    }
   ],
   "source": [
    "with open('lovisari_T500vsL_0.12.4_500_xgav0.4.xgarel', 'rb') as reado:\n",
    "    t_l_rel = pickle.load(reado)\n",
    "t_l_rel.view(figsize=(7, 6), grid_on=True)"
   ]
  },
  {
   "cell_type": "code",
   "execution_count": null,
   "id": "61db485f",
   "metadata": {},
   "outputs": [],
   "source": [
    "# samp = pd.read_csv('../../sample_files/lovoccs_southnorth.csv')\n",
    "# samp['LoVoCCS_name'] = samp['LoVoCCSID'].apply(lambda x: 'LoVoCCS-' + str(x))\n",
    "# chos_samp = samp[samp['LoVoCCS_name'].isin(chosen)]\n",
    "# chos_samp = chos_samp.reset_index(drop=True)\n",
    "# chos_samp"
   ]
  },
  {
   "cell_type": "code",
   "execution_count": 10,
   "id": "d9377ba5",
   "metadata": {},
   "outputs": [
    {
     "data": {
      "text/plain": [
       "(87, 24)"
      ]
     },
     "execution_count": 10,
     "metadata": {},
     "output_type": "execute_result"
    }
   ],
   "source": [
    "chos_samp.shape"
   ]
  },
  {
   "cell_type": "code",
   "execution_count": 11,
   "id": "adba3bf6",
   "metadata": {},
   "outputs": [
    {
     "data": {
      "text/latex": [
       "$[5.9585243,~5.6988505,~5.6428112,~5.4675919,~5.2685818,~5.1686052,~5.1193553,~5.0693624,~5.1927033,~5.086395,~4.9819294,~4.8788965,~4.7301139,~4.6802805,~4.6772363,~4.6414864,~4.5447049,~4.5137052,~4.4822096,~4.4102495,~4.4335376,~4.3483884,~4.38887,~4.2725295,~4.2993369,~4.3649987,~4.2599817,~4.3252081,~4.2348849,~4.1345833,~4.1963707,~4.12978,~4.1204162,~4.1266202,~4.1849974,~4.0882786,~4.0421609,~4.1373999,~4.0646221,~4.138416,~4.0008187,~4.0333328,~3.9709258,~3.9716504,~4.0713015,~3.9687093,~3.9946632,~3.9260806,~3.8419411,~3.8248902,~3.7975234,~3.819175,~3.7009655,~3.6880099,~3.8180266,~3.7405826,~3.7245396,~3.6180531,~3.728116,~3.6823915,~3.7058775,~3.6712761,~3.7386202,~3.625184,~3.6381774,~3.6244027,~3.6898404,~3.6148262,~3.5842666,~3.6339612,~5.3854736,~5.1561019,~4.7936432,~4.4646997,~4.360859,~4.4756679,~4.3259188,~4.0123278,~3.8685716,~3.8399332,~3.7792923,~3.8452561,~3.6658666,~3.6498908,~3.5273801,~3.5355846,~3.5245091] \\; \\mathrm{keV}$"
      ],
      "text/plain": [
       "<Quantity [5.95852433, 5.69885055, 5.64281121, 5.46759186, 5.26858176,\n",
       "           5.16860519, 5.11935533, 5.06936236, 5.19270326, 5.08639503,\n",
       "           4.98192945, 4.87889646, 4.73011388, 4.68028052, 4.67723629,\n",
       "           4.64148635, 4.54470487, 4.51370515, 4.4822096 , 4.41024946,\n",
       "           4.43353755, 4.34838838, 4.38886998, 4.27252954, 4.29933689,\n",
       "           4.36499868, 4.2599817 , 4.32520805, 4.23488492, 4.13458329,\n",
       "           4.19637074, 4.12978001, 4.12041616, 4.12662015, 4.18499737,\n",
       "           4.08827864, 4.04216092, 4.13739993, 4.06462207, 4.13841597,\n",
       "           4.00081867, 4.03333281, 3.97092581, 3.97165039, 4.0713015 ,\n",
       "           3.96870927, 3.99466325, 3.92608057, 3.84194106, 3.82489018,\n",
       "           3.79752344, 3.81917498, 3.70096549, 3.68800995, 3.81802665,\n",
       "           3.7405826 , 3.72453964, 3.61805306, 3.72811599, 3.68239151,\n",
       "           3.70587748, 3.6712761 , 3.73862023, 3.62518397, 3.63817739,\n",
       "           3.62440271, 3.68984039, 3.61482616, 3.58426657, 3.63396117,\n",
       "           5.38547363, 5.15610191, 4.79364318, 4.46469966, 4.36085903,\n",
       "           4.47566789, 4.32591876, 4.01232783, 3.8685716 , 3.83993321,\n",
       "           3.77929225, 3.84525608, 3.66586658, 3.64989082, 3.5273801 ,\n",
       "           3.53558464, 3.52450911] keV>"
      ]
     },
     "execution_count": 11,
     "metadata": {},
     "output_type": "execute_result"
    }
   ],
   "source": [
    "ls = Quantity(chos_samp['L500'].values*1e+44, 'erg/s')\n",
    "z = chos_samp['redshift'].values\n",
    "pred_t = t_l_rel.predict(ls, z, cosmo)\n",
    "pred_t"
   ]
  },
  {
   "cell_type": "code",
   "execution_count": 12,
   "id": "f306c239",
   "metadata": {},
   "outputs": [
    {
     "data": {
      "text/plain": [
       "array([0.098 , 0.0722, 0.0852, 0.1141, 0.0894, 0.094 , 0.098 , 0.1082,\n",
       "       0.0539, 0.0846, 0.0965, 0.0957, 0.1021, 0.0852, 0.076 , 0.0834,\n",
       "       0.1184, 0.1168, 0.0906, 0.1195, 0.0951, 0.1147, 0.0897, 0.1072,\n",
       "       0.0824, 0.0458, 0.0943, 0.0475, 0.0894, 0.1164, 0.0768, 0.1065,\n",
       "       0.111 , 0.0871, 0.0442, 0.0853, 0.1057, 0.0569, 0.0825, 0.0442,\n",
       "       0.1108, 0.0817, 0.112 , 0.0963, 0.0353, 0.0765, 0.0554, 0.0851,\n",
       "       0.1198, 0.094 , 0.1024, 0.0822, 0.115 , 0.1186, 0.0355, 0.0582,\n",
       "       0.0624, 0.1176, 0.0544, 0.078 , 0.062 , 0.0808, 0.0397, 0.0916,\n",
       "       0.075 , 0.0788, 0.03  , 0.0718, 0.072 , 0.0416, 0.097 , 0.0766,\n",
       "       0.0728, 0.0786, 0.119 , 0.0564, 0.0901, 0.1084, 0.0812, 0.0822,\n",
       "       0.1076, 0.0613, 0.1199, 0.11  , 0.1153, 0.0982, 0.1043])"
      ]
     },
     "execution_count": 12,
     "metadata": {},
     "output_type": "execute_result"
    }
   ],
   "source": [
    "z"
   ]
  },
  {
   "cell_type": "code",
   "execution_count": 13,
   "id": "c41e5a6b",
   "metadata": {},
   "outputs": [
    {
     "data": {
      "text/latex": [
       "$[4.204419 \\times 10^{44},~3.592916 \\times 10^{44},~3.557935 \\times 10^{44},~3.393306 \\times 10^{44},~2.963013 \\times 10^{44},~2.828545 \\times 10^{44},~2.770068 \\times 10^{44},~2.734146 \\times 10^{44},~2.716018 \\times 10^{44},~2.672473 \\times 10^{44},~2.565193 \\times 10^{44},~2.419356 \\times 10^{44},~2.241343 \\times 10^{44},~2.127767 \\times 10^{44},~2.097956 \\times 10^{44},~2.074613 \\times 10^{44},~2.053481 \\times 10^{44},~2.010759 \\times 10^{44},~1.9031 \\times 10^{44},~1.893646 \\times 10^{44},~1.858113 \\times 10^{44},~1.809494 \\times 10^{44},~1.793951 \\times 10^{44},~1.706366 \\times 10^{44},~1.678567 \\times 10^{44},~1.667482 \\times 10^{44},~1.663138 \\times 10^{44},~1.629622 \\times 10^{44},~1.625536 \\times 10^{44},~1.579007 \\times 10^{44},~1.558638 \\times 10^{44},~1.5527 \\times 10^{44},~1.552593 \\times 10^{44},~1.509152 \\times 10^{44},~1.482131 \\times 10^{44},~1.467361 \\times 10^{44},~1.462214 \\times 10^{44},~1.460216 \\times 10^{44},~1.438718 \\times 10^{44},~1.437223 \\times 10^{44},~1.431443 \\times 10^{44},~1.406968 \\times 10^{44},~1.404549 \\times 10^{44},~1.375433 \\times 10^{44},~1.35838 \\times 10^{44},~1.336537 \\times 10^{44},~1.323277 \\times 10^{44},~1.312476 \\times 10^{44},~1.296543 \\times 10^{44},~1.236332 \\times 10^{44},~1.22609 \\times 10^{44},~1.211831 \\times 10^{44},~1.162194 \\times 10^{44},~1.156778 \\times 10^{44},~1.138819 \\times 10^{44},~1.108636 \\times 10^{44},~1.101682 \\times 10^{44},~1.095941 \\times 10^{44},~1.093054 \\times 10^{44},~1.090082 \\times 10^{44},~1.086002 \\times 10^{44},~1.085118 \\times 10^{44},~1.080714 \\times 10^{44},~1.063423 \\times 10^{44},~1.050267 \\times 10^{44},~1.044658 \\times 10^{44},~1.029501 \\times 10^{44},~1.027456 \\times 10^{44},~1.004022 \\times 10^{44},~1.002026 \\times 10^{44},~3.179797 \\times 10^{44},~2.744796 \\times 10^{44},~2.235082 \\times 10^{44},~1.852614 \\times 10^{44},~1.834651 \\times 10^{44},~1.811143 \\times 10^{44},~1.725034 \\times 10^{44},~1.438047 \\times 10^{44},~1.253723 \\times 10^{44},~1.230023 \\times 10^{44},~1.21861 \\times 10^{44},~1.200899 \\times 10^{44},~1.139833 \\times 10^{44},~1.110969 \\times 10^{44},~1.018847 \\times 10^{44},~1.001648 \\times 10^{44},~1.001337 \\times 10^{44}] \\; \\mathrm{\\frac{erg}{s}}$"
      ],
      "text/plain": [
       "<Quantity [4.204419e+44, 3.592916e+44, 3.557935e+44, 3.393306e+44,\n",
       "           2.963013e+44, 2.828545e+44, 2.770068e+44, 2.734146e+44,\n",
       "           2.716018e+44, 2.672473e+44, 2.565193e+44, 2.419356e+44,\n",
       "           2.241343e+44, 2.127767e+44, 2.097956e+44, 2.074613e+44,\n",
       "           2.053481e+44, 2.010759e+44, 1.903100e+44, 1.893646e+44,\n",
       "           1.858113e+44, 1.809494e+44, 1.793951e+44, 1.706366e+44,\n",
       "           1.678567e+44, 1.667482e+44, 1.663138e+44, 1.629622e+44,\n",
       "           1.625536e+44, 1.579007e+44, 1.558638e+44, 1.552700e+44,\n",
       "           1.552593e+44, 1.509152e+44, 1.482131e+44, 1.467361e+44,\n",
       "           1.462214e+44, 1.460216e+44, 1.438718e+44, 1.437223e+44,\n",
       "           1.431443e+44, 1.406968e+44, 1.404549e+44, 1.375433e+44,\n",
       "           1.358380e+44, 1.336537e+44, 1.323277e+44, 1.312476e+44,\n",
       "           1.296543e+44, 1.236332e+44, 1.226090e+44, 1.211831e+44,\n",
       "           1.162194e+44, 1.156778e+44, 1.138819e+44, 1.108636e+44,\n",
       "           1.101682e+44, 1.095941e+44, 1.093054e+44, 1.090082e+44,\n",
       "           1.086002e+44, 1.085118e+44, 1.080714e+44, 1.063423e+44,\n",
       "           1.050267e+44, 1.044658e+44, 1.029501e+44, 1.027456e+44,\n",
       "           1.004022e+44, 1.002026e+44, 3.179797e+44, 2.744796e+44,\n",
       "           2.235082e+44, 1.852614e+44, 1.834651e+44, 1.811143e+44,\n",
       "           1.725034e+44, 1.438047e+44, 1.253723e+44, 1.230023e+44,\n",
       "           1.218610e+44, 1.200899e+44, 1.139833e+44, 1.110969e+44,\n",
       "           1.018847e+44, 1.001648e+44, 1.001337e+44] erg / s>"
      ]
     },
     "execution_count": 13,
     "metadata": {},
     "output_type": "execute_result"
    }
   ],
   "source": [
    "ls"
   ]
  },
  {
   "cell_type": "code",
   "execution_count": 14,
   "id": "6f719ed8",
   "metadata": {},
   "outputs": [
    {
     "data": {
      "text/latex": [
       "$[1.7315205 \\times 10^{-11},~2.824205 \\times 10^{-11},~1.9725932 \\times 10^{-11},~1.0090841 \\times 10^{-11},~1.4834961 \\times 10^{-11},~1.2729879 \\times 10^{-11},~1.1408067 \\times 10^{-11},~9.1122525 \\times 10^{-12},~3.931107 \\times 10^{-11},~1.5040018 \\times 10^{-11},~1.0917327 \\times 10^{-11},~1.0480822 \\times 10^{-11},~8.4575134 \\times 10^{-12},~1.1796783 \\times 10^{-11},~1.4804588 \\times 10^{-11},~1.2033605 \\times 10^{-11},~5.6391679 \\times 10^{-12},~5.6860568 \\times 10^{-12},~9.2624139 \\times 10^{-12},~5.0976132 \\times 10^{-12},~8.1579735 \\times 10^{-12},~5.3206354 \\times 10^{-12},~8.9181803 \\times 10^{-12},~5.8011935 \\times 10^{-12},~9.9878451 \\times 10^{-12},~3.3818847 \\times 10^{-11},~7.4343942 \\times 10^{-12},~3.0652048 \\times 10^{-11},~8.1385954 \\times 10^{-12},~4.4982393 \\times 10^{-12},~1.0758905 \\times 10^{-11},~5.3533652 \\times 10^{-12},~4.8984793 \\times 10^{-12},~7.9852175 \\times 10^{-12},~3.2350348 \\times 10^{-11},~8.1151798 \\times 10^{-12},~5.1234378 \\times 10^{-12},~1.8883826 \\times 10^{-11},~8.5387757 \\times 10^{-12},~3.1370145 \\times 10^{-11},~4.5337635 \\times 10^{-12},~8.5240482 \\times 10^{-12},~4.3468772 \\times 10^{-12},~5.8796956 \\times 10^{-12},~4.7093443 \\times 10^{-11},~9.3021644 \\times 10^{-12},~1.8090843 \\times 10^{-11},~7.2947506 \\times 10^{-12},~3.4714204 \\times 10^{-12},~5.5641173 \\times 10^{-12},~4.597631 \\times 10^{-12},~7.247787 \\times 10^{-12},~3.3981693 \\times 10^{-12},~3.1651543 \\times 10^{-12},~3.9026425 \\times 10^{-11},~1.3678419 \\times 10^{-11},~1.1754145 \\times 10^{-11},~3.0538983 \\times 10^{-12},~1.5520032 \\times 10^{-11},~7.2827173 \\times 10^{-12},~1.1743488 \\times 10^{-11},~6.7297418 \\times 10^{-12},~2.9431685 \\times 10^{-11},~5.0564326 \\times 10^{-12},~7.6209206 \\times 10^{-12},~6.8306918 \\times 10^{-12},~4.9805052 \\times 10^{-11},~8.1710968 \\times 10^{-12},~7.9382176 \\times 10^{-12},~2.4784076 \\times 10^{-11},~1.3384873 \\times 10^{-11},~1.9051019 \\times 10^{-11},~1.7265964 \\times 10^{-11},~1.2178756 \\times 10^{-11},~4.9836425 \\times 10^{-12},~2.3856228 \\times 10^{-11},~8.4949786 \\times 10^{-12},~4.7737311 \\times 10^{-12},~7.6947468 \\times 10^{-12},~7.3565908 \\times 10^{-12},~4.1100241 \\times 10^{-12},~1.3297379 \\times 10^{-11},~3.0463524 \\times 10^{-12},~3.5738809 \\times 10^{-12},~2.9623842 \\times 10^{-12},~4.1072311 \\times 10^{-12},~3.6101219 \\times 10^{-12}] \\; \\mathrm{\\frac{erg}{s\\,cm^{2}}}$"
      ],
      "text/plain": [
       "<Quantity [1.73152047e-11, 2.82420504e-11, 1.97259321e-11, 1.00908414e-11,\n",
       "           1.48349615e-11, 1.27298786e-11, 1.14080672e-11, 9.11225254e-12,\n",
       "           3.93110702e-11, 1.50400181e-11, 1.09173268e-11, 1.04808220e-11,\n",
       "           8.45751342e-12, 1.17967830e-11, 1.48045878e-11, 1.20336053e-11,\n",
       "           5.63916786e-12, 5.68605685e-12, 9.26241394e-12, 5.09761324e-12,\n",
       "           8.15797352e-12, 5.32063541e-12, 8.91818030e-12, 5.80119351e-12,\n",
       "           9.98784515e-12, 3.38188474e-11, 7.43439419e-12, 3.06520481e-11,\n",
       "           8.13859540e-12, 4.49823931e-12, 1.07589052e-11, 5.35336520e-12,\n",
       "           4.89847931e-12, 7.98521748e-12, 3.23503484e-11, 8.11517976e-12,\n",
       "           5.12343784e-12, 1.88838256e-11, 8.53877574e-12, 3.13701453e-11,\n",
       "           4.53376353e-12, 8.52404824e-12, 4.34687717e-12, 5.87969565e-12,\n",
       "           4.70934435e-11, 9.30216444e-12, 1.80908432e-11, 7.29475062e-12,\n",
       "           3.47142043e-12, 5.56411732e-12, 4.59763097e-12, 7.24778702e-12,\n",
       "           3.39816934e-12, 3.16515428e-12, 3.90264249e-11, 1.36784190e-11,\n",
       "           1.17541448e-11, 3.05389834e-12, 1.55200323e-11, 7.28271729e-12,\n",
       "           1.17434878e-11, 6.72974178e-12, 2.94316845e-11, 5.05643255e-12,\n",
       "           7.62092058e-12, 6.83069184e-12, 4.98050522e-11, 8.17109680e-12,\n",
       "           7.93821764e-12, 2.47840763e-11, 1.33848727e-11, 1.90510189e-11,\n",
       "           1.72659641e-11, 1.21787556e-11, 4.98364251e-12, 2.38562279e-11,\n",
       "           8.49497863e-12, 4.77373105e-12, 7.69474677e-12, 7.35659076e-12,\n",
       "           4.11002407e-12, 1.32973787e-11, 3.04635243e-12, 3.57388095e-12,\n",
       "           2.96238417e-12, 4.10723108e-12, 3.61012189e-12] erg / (cm2 s)>"
      ]
     },
     "execution_count": 14,
     "metadata": {},
     "output_type": "execute_result"
    }
   ],
   "source": [
    "flux = ((ls)/ (4*np.pi*(cosmo.luminosity_distance(z)**2))).to('erg/(s cm^2)')\n",
    "flux"
   ]
  },
  {
   "cell_type": "markdown",
   "id": "69f1122a",
   "metadata": {},
   "source": [
    "### Currently Exploring"
   ]
  },
  {
   "cell_type": "code",
   "execution_count": 17,
   "id": "760a7813",
   "metadata": {},
   "outputs": [
    {
     "data": {
      "text/plain": [
       "0      True\n",
       "1     False\n",
       "2     False\n",
       "3     False\n",
       "4     False\n",
       "      ...  \n",
       "82    False\n",
       "83    False\n",
       "84    False\n",
       "85    False\n",
       "86    False\n",
       "Name: LoVoCCSID, Length: 87, dtype: bool"
      ]
     },
     "execution_count": 17,
     "metadata": {},
     "output_type": "execute_result"
    }
   ],
   "source": [
    "sel = chos_samp['LoVoCCSID'] == 7\n",
    "sel"
   ]
  },
  {
   "cell_type": "code",
   "execution_count": 35,
   "id": "f0192377",
   "metadata": {},
   "outputs": [
    {
     "name": "stdout",
     "output_type": "stream",
     "text": [
      "[0.0277] 1e+22 / cm2\n",
      "[5.95852433] keV\n",
      "[0.098]\n",
      "\n",
      "\n",
      "\n",
      "[4.204419e+44] erg / s\n",
      "[1.73152047e-11] erg / (cm2 s)\n"
     ]
    }
   ],
   "source": [
    "print(nhs[sel])\n",
    "print(pred_t[sel])\n",
    "print(z[sel])\n",
    "print('\\n\\n')\n",
    "print(ls[sel])\n",
    "print(flux[sel])\n"
   ]
  },
  {
   "cell_type": "code",
   "execution_count": 34,
   "id": "e94e75bd",
   "metadata": {},
   "outputs": [
    {
     "data": {
      "text/plain": [
       "0.027370624861686316"
      ]
     },
     "execution_count": 34,
     "metadata": {},
     "output_type": "execute_result"
    }
   ],
   "source": [
    "1.73152047e-11 / 6.3262e-10"
   ]
  },
  {
   "cell_type": "code",
   "execution_count": null,
   "id": "2249495d",
   "metadata": {},
   "outputs": [],
   "source": [
    "0.00181441628"
   ]
  },
  {
   "cell_type": "code",
   "execution_count": 36,
   "id": "303a0703",
   "metadata": {},
   "outputs": [
    {
     "data": {
      "text/plain": [
       "0.06629064148768626"
      ]
     },
     "execution_count": 36,
     "metadata": {},
     "output_type": "execute_result"
    }
   ],
   "source": [
    "0.00181441628 / 0.027370624861686316"
   ]
  },
  {
   "cell_type": "code",
   "execution_count": null,
   "id": "02c05ece",
   "metadata": {},
   "outputs": [],
   "source": [
    "print(COUNTRATE_CONV_SCRIPT)\n",
    "with open(COUNTRATE_CONV_SCRIPT, 'r') as c_script:\n",
    "    script = c_script.read()"
   ]
  },
  {
   "cell_type": "code",
   "execution_count": null,
   "id": "ba6d1142",
   "metadata": {},
   "outputs": [],
   "source": [
    "# This is one of XCS' recent observations of DES clusters\n",
    "DONOR_OBS = \"0864080901\"\n",
    "\n",
    "# Setting up paths to files required for simulating XMM spectrum - these will be filled in with ObsID\n",
    "#  and instrument when required\n",
    "arf_path = \"xmm_resp/{o}_{i}_exp1arf.fits\"\n",
    "rmf_path = \"xmm_resp/{o}_{i}_exp1rmf.fits\"\n",
    "spec_path = \"xmm_resp/{o}_{i}_exp1spec.fits\""
   ]
  },
  {
   "cell_type": "code",
   "execution_count": null,
   "id": "e95afcc6",
   "metadata": {},
   "outputs": [],
   "source": [
    "DONOR_OBS = \"0880810201\"\n",
    "\n",
    "# Setting up paths to files required for simulating XMM spectrum - these will be filled in with ObsID\n",
    "#  and instrument when required\n",
    "arf_path = \"xmm_resp/{o}_{i}_LoVoCCS-116_ra125.2575_dec7.866111111_ri0.0_ro0.09746580167775488_grpTrue_mincnt5.arf\"\n",
    "rmf_path = \"xmm_resp/{o}_{i}_LoVoCCS-116_ra125.2575_dec7.866111111_ri0.0_ro0.09746580167775488_grpTrue_mincnt5.rmf\"\n",
    "spec_path = \"xmm_resp/{o}_{i}_LoVoCCS-116_ra125.2575_dec7.866111111_ri0.0_ro0.09746580167775488_\" \\\n",
    "            \"grpTrue_mincnt5_spec.fits\""
   ]
  },
  {
   "cell_type": "code",
   "execution_count": null,
   "id": "5e1639b7",
   "metadata": {},
   "outputs": [],
   "source": [
    "fits.open(rmf_path.format(o=DONOR_OBS, i='pn'))[1].header['FILTER']"
   ]
  },
  {
   "cell_type": "code",
   "execution_count": null,
   "id": "d192d7b7",
   "metadata": {},
   "outputs": [],
   "source": [
    "arfs_str = \" \".join([arf_path.format(o=DONOR_OBS, i='pn'), \n",
    "                     arf_path.format(o=DONOR_OBS, i='mos1'), \n",
    "                     arf_path.format(o=DONOR_OBS, i='mos2')])\n",
    "arfs_str = \"{\" + arfs_str + \"}\"\n",
    "rmfs_str = \" \".join([rmf_path.format(o=DONOR_OBS, i='pn'), \n",
    "                     rmf_path.format(o=DONOR_OBS, i='mos1'), \n",
    "                     rmf_path.format(o=DONOR_OBS, i='mos2')])\n",
    "rmfs_str = \"{\" + rmfs_str + \"}\"\n",
    "\n",
    "obs_str = \"{\" + \" \".join([DONOR_OBS, DONOR_OBS, DONOR_OBS]) + \"}\"\n",
    "inst_str = \"{\" + \" \".join(['PN', 'MOS1', 'MOS2']) + \"}\"\n",
    "\n",
    "lo_lims = \"{0.5 0.1 0.01}\"\n",
    "hi_lims = \"{2.0 2.4 100.0}\""
   ]
  },
  {
   "cell_type": "code",
   "execution_count": null,
   "id": "8bb64b0b",
   "metadata": {},
   "outputs": [],
   "source": [
    "# for row_ind, row in chos_samp.iterrows():\n",
    "for chos in chosen:\n",
    "    row = chos_samp[chos_samp['LoVoCCS_name'] == chos].iloc[0]\n",
    "    row_ind = chos_samp[chos_samp['LoVoCCS_name'] == chos].index[0]\n",
    "    nh = nh_lookup(Quantity([row['ra'], row['dec']], 'deg'))[0].value\n",
    "    print(row['LoVoCCS_name'], nh, row['redshift'], flux[row_ind], pred_t[row_ind], \n",
    "          rad_to_ang(Quantity(row['R500'], 'Mpc'), row['redshift']))"
   ]
  },
  {
   "cell_type": "code",
   "execution_count": null,
   "id": "26ee0418",
   "metadata": {},
   "outputs": [],
   "source": [
    "wpimm_ctr = Quantity([[4.299, 1.193, 1.193], \n",
    "                      [3.811, 1.052, 1.052], \n",
    "                      [2.118, 0.5845, 0.5845], \n",
    "                      [3.484, 0.9659, 0.9659], \n",
    "                      [1.920, 0.5303, 0.5303], \n",
    "                      [1.937, 0.5327, 0.5327], \n",
    "                      [3.653, 1.007, 1.007], \n",
    "                      [1.849, 0.5108, 0.5108], \n",
    "                      [3.295, 0.9108, 0.9108], \n",
    "                      [1.747, 0.4833, 0.4833], \n",
    "                      [1.447, 0.3994, 0.3994], \n",
    "                      [1.344, 0.3710, 0.3710], \n",
    "                      [1.311, 0.3616, 0.3616], \n",
    "                      [2.953, 0.8079, 0.8079], \n",
    "                      [1.263, 0.3508, 0.3508], \n",
    "                      [1.553, 0.4259, 0.4259]], 'ct/s')\n",
    "print(wpimm_ctr)"
   ]
  },
  {
   "cell_type": "code",
   "execution_count": null,
   "id": "bd135dd2",
   "metadata": {},
   "outputs": [],
   "source": [
    "exps = []\n",
    "for ind in range(len(chos_samp)):\n",
    "    e = Quantity(30000, 'ct') / wpimm_ctr[ind, :].sum()\n",
    "    exps.append(max(e, Quantity(7000, 's')))\n",
    "#     print(e)\n",
    "print(sum(exps))"
   ]
  },
  {
   "cell_type": "code",
   "execution_count": null,
   "id": "4f86ce86",
   "metadata": {},
   "outputs": [],
   "source": [
    "for chos in chosen:\n",
    "    row = chos_samp[chos_samp['LoVoCCS_name'] == chos].iloc[0]\n",
    "    row_ind = chos_samp[chos_samp['LoVoCCS_name'] == chos].index[0]\n",
    "    nh = nh_lookup(Quantity([row['ra'], row['dec']], 'deg'))[0].value\n",
    "#     print(row['other_names'], row['LoVoCCS_name'], nh, flux[row_ind].to('1e-11 erg/s/cm^2').round(3), pred_t[row_ind].round(3), \n",
    "#           rad_to_ang(Quantity(row['R500'], 'Mpc'), row['redshift']).to('arcmin').round(3), exps[row_ind].to('ks'))\n",
    "    \n",
    "    print(row['other_names'], row['LoVoCCS_name'], flux[row_ind].to('1e-11 erg/s/cm^2').round(3), \n",
    "          wpimm_ctr[row_ind, 0], wpimm_ctr[row_ind, 1], pred_t[row_ind].round(3), wpimm_ctr[row_ind, :].sum().round(3)\n",
    "          )"
   ]
  },
  {
   "cell_type": "code",
   "execution_count": null,
   "id": "6c1c0337",
   "metadata": {},
   "outputs": [],
   "source": [
    "with tqdm(total=len(chos_samp), desc=\"Running Simulations\") as onwards:\n",
    "    for row_ind, row in chos_samp.iterrows():\n",
    "        if not os.path.exists(\"sim_outputs/{}\".format(row['LoVoCCS_name'])):\n",
    "            os.makedirs(\"sim_outputs/{}\".format(row['LoVoCCS_name']))\n",
    "        \n",
    "        outfile = os.getcwd()+\"/sim_outputs/{}/sim.csv\".format(row['LoVoCCS_name'])\n",
    "        scfile = os.getcwd()+\"/sim_outputs/{}/sim.xcm\".format(row['LoVoCCS_name'])\n",
    "\n",
    "        nh = nh_lookup(Quantity([row['ra'], row['dec']], 'deg'))[0].value\n",
    "        temp = pred_t[row_ind].value\n",
    "        par_vals = \"{\" + \" \".join([str(nh), str(temp), '0.3', str(row['redshift']), '1']) + \"}\"\n",
    "        \n",
    "        cur_script = script.format(ab='angr', H0=cosmo.H0.value, q0=0., lamb0=cosmo.Ode0, rmf=rmfs_str, \n",
    "                                   arf=arfs_str, obs=obs_str, inst=inst_str, m=\"tbabs*apec\", \n",
    "                                   pn=\"{nH kT Abundanc Redshift norm}\", pv=par_vals, lll=lo_lims, \n",
    "                                   lul=hi_lims, redshift=str(row['redshift']), of=outfile, rid=randint(0, 1e+8))\n",
    "        \n",
    "        with open(scfile, 'w') as scripto:\n",
    "            scripto.write(cur_script)\n",
    "                \n",
    "        out, err = Popen(\"xspec - \" + scfile, shell=True, stdout=PIPE, stderr=PIPE).communicate()\n",
    "        onwards.update(1)"
   ]
  },
  {
   "cell_type": "code",
   "execution_count": null,
   "id": "84136d61",
   "metadata": {
    "scrolled": false
   },
   "outputs": [],
   "source": [
    "obs_comb_exps = []\n",
    "for row_ind, row in chos_samp.iterrows():\n",
    "    outfile = os.getcwd() + \"/sim_outputs/{}/sim.csv\".format(row['LoVoCCS_name'])\n",
    "    \n",
    "    mcxc_lum = ls[row_ind].value\n",
    "    \n",
    "    if pred_t[row_ind].value <= 1.5:\n",
    "        target_cnts = 1000\n",
    "    elif pred_t[row_ind].value <= 3.0 and pred_t[row_ind].value > 1.5:\n",
    "        target_cnts = 1500\n",
    "    elif pred_t[row_ind].value <= 5.0 and pred_t[row_ind].value > 3:\n",
    "        target_cnts = 2000\n",
    "    else:\n",
    "        target_cnts = 2500\n",
    "    target_cnts *= 15\n",
    "#     target_cnts = 10000\n",
    "    \n",
    "#     print(target_cnts)\n",
    "    \n",
    "    fak_info = pd.read_csv(outfile)\n",
    "\n",
    "#     print(fak_info)\n",
    "    \n",
    "    sim_lum = fak_info.loc[1, 'Lx_{}PN'.format(DONOR_OBS)] * 10**44\n",
    "#     print(sim_lum)\n",
    "    lum_rat = mcxc_lum / sim_lum\n",
    "    \n",
    "    pn_sim_cnt_rate_124 = fak_info.loc[1, 'rate_{}PN'.format(DONOR_OBS)]\n",
    "    pn_sim_cnt_rate_52 = fak_info.loc[0, 'rate_{}PN'.format(DONOR_OBS)]\n",
    "    pn_cr_124_to_52 = pn_sim_cnt_rate_52/pn_sim_cnt_rate_124\n",
    "    \n",
    "    m1_sim_cnt_rate_124 = fak_info.loc[1, 'rate_{}MOS1'.format(DONOR_OBS)]\n",
    "    m1_sim_cnt_rate_52 = fak_info.loc[0, 'rate_{}MOS1'.format(DONOR_OBS)]\n",
    "    m1_cr_124_to_52 = m1_sim_cnt_rate_52/m1_sim_cnt_rate_124\n",
    "    \n",
    "    m2_sim_cnt_rate_124 = fak_info.loc[1, 'rate_{}MOS2'.format(DONOR_OBS)]\n",
    "    m2_sim_cnt_rate_52 = fak_info.loc[0, 'rate_{}MOS2'.format(DONOR_OBS)]\n",
    "    m2_cr_124_to_52 = m2_sim_cnt_rate_52/m2_sim_cnt_rate_124\n",
    "        \n",
    "    pn_cr = fak_info.loc[1, 'rate_{}PN'.format(DONOR_OBS)] * lum_rat * pn_cr_124_to_52\n",
    "    m1_cr = fak_info.loc[1, 'rate_{}MOS1'.format(DONOR_OBS)] * lum_rat * m1_cr_124_to_52\n",
    "    m2_cr = fak_info.loc[1, 'rate_{}MOS2'.format(DONOR_OBS)] * lum_rat * m2_cr_124_to_52\n",
    "    \n",
    "    print(pn_cr)\n",
    "    print(m1_cr)\n",
    "    print(m2_cr)\n",
    "    print('\\n\\n')\n",
    "#     rel_src = lovoccs_noclean[row['name']]\n",
    "    \n",
    "#     if len(rel_src.obs_ids) == 1:\n",
    "#         o = rel_src.obs_ids[0]\n",
    "#     else:\n",
    "#         ra, dec = rel_src.ra_dec.value\n",
    "#         matches = simple_xmm_match(ra, dec, Quantity(5, 'arcmin'))[0]\n",
    "#         matches = matches[matches['dist'] == matches['dist'].min()]\n",
    "#         o = matches['ObsID'].values[0]\n",
    "    \n",
    "#     cnt_pn = rel_src.get_counts('r500', rel_src.ra_dec, Quantity(0.5, 'keV'), Quantity(2.0, 'keV'), o, 'mos2')\n",
    "    \n",
    "    comb_exp = Quantity(target_cnts/(pn_cr+m1_cr+m2_cr), 's')  \n",
    "#     comb_exp = Quantity((target_cnts/pn_cr)+(target_cnts/m1_cr)+(target_cnts/m2_cr), 's')\n",
    "    \n",
    "    obs_comb_exps.append(comb_exp)\n",
    "    \n",
    "#     print(comb_exp, '\\n')"
   ]
  },
  {
   "cell_type": "code",
   "execution_count": null,
   "id": "8c780e00",
   "metadata": {},
   "outputs": [],
   "source": [
    "fak_info"
   ]
  },
  {
   "cell_type": "code",
   "execution_count": null,
   "id": "e603ac79",
   "metadata": {},
   "outputs": [],
   "source": [
    "print(chos_samp['LoVoCCS_name'].values)\n",
    "print(obs_comb_exps)\n",
    "sum(obs_comb_exps)"
   ]
  }
 ],
 "metadata": {
  "kernelspec": {
   "display_name": "Python 3 (ipykernel)",
   "language": "python",
   "name": "python3"
  },
  "language_info": {
   "codemirror_mode": {
    "name": "ipython",
    "version": 3
   },
   "file_extension": ".py",
   "mimetype": "text/x-python",
   "name": "python",
   "nbconvert_exporter": "python",
   "pygments_lexer": "ipython3",
   "version": "3.8.16"
  }
 },
 "nbformat": 4,
 "nbformat_minor": 5
}
